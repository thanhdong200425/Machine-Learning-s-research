{
  "cells": [
    {
      "cell_type": "markdown",
      "metadata": {
        "id": "WOw8yMd1VlnD"
      },
      "source": [
        "# Data Preprocessing Template"
      ]
    },
    {
      "cell_type": "markdown",
      "metadata": {
        "id": "NvUGC8QQV6bV"
      },
      "source": [
        "## Importing the libraries"
      ]
    },
    {
      "cell_type": "code",
      "execution_count": 1,
      "metadata": {
        "id": "wfFEXZC0WS-V"
      },
      "outputs": [],
      "source": [
        "import numpy as np\n",
        "import pandas as pd"
      ]
    },
    {
      "cell_type": "markdown",
      "metadata": {
        "id": "fhYaZ-ENV_c5"
      },
      "source": [
        "## Importing the dataset"
      ]
    },
    {
      "cell_type": "code",
      "execution_count": 2,
      "metadata": {
        "id": "uzdEdEIly0RG"
      },
      "outputs": [],
      "source": [
        "dataset = pd.read_csv('Data.csv')\n",
        "# iloc: locate index = this function to get all the index of rows and columns, respectively\n",
        "X = dataset.iloc[:, :-1].values\n",
        "y = dataset.iloc[:, -1].values\n",
        "# Check how many rows in each columns is nan(not a number)\n",
        "missing_data = dataset.isnull().sum()"
      ]
    },
    {
      "cell_type": "code",
      "execution_count": 3,
      "metadata": {
        "colab": {
          "base_uri": "https://localhost:8080/"
        },
        "id": "E8gVkyAx1Inn",
        "outputId": "fba88450-bc24-432a-e62b-062df4a81cfe"
      },
      "outputs": [
        {
          "name": "stdout",
          "output_type": "stream",
          "text": [
            "[['France' 44.0 72000.0]\n",
            " ['Spain' 27.0 48000.0]\n",
            " ['Germany' 30.0 54000.0]\n",
            " ['Spain' 38.0 61000.0]\n",
            " ['Germany' 40.0 nan]\n",
            " ['France' 35.0 58000.0]\n",
            " ['Spain' nan 52000.0]\n",
            " ['France' 48.0 79000.0]\n",
            " ['Germany' 50.0 83000.0]\n",
            " ['France' 37.0 67000.0]]\n",
            "Country      0\n",
            "Age          1\n",
            "Salary       1\n",
            "Purchased    0\n",
            "dtype: int64\n"
          ]
        }
      ],
      "source": [
        "print(X)\n",
        "print(missing_data)"
      ]
    },
    {
      "cell_type": "code",
      "execution_count": 4,
      "metadata": {
        "colab": {
          "base_uri": "https://localhost:8080/"
        },
        "id": "794GskO21MJH",
        "outputId": "ae0698e5-9c2a-4749-d689-b5fe22f15ed4"
      },
      "outputs": [
        {
          "name": "stdout",
          "output_type": "stream",
          "text": [
            "['No' 'Yes' 'No' 'No' 'Yes' 'Yes' 'No' 'Yes' 'No' 'Yes']\n"
          ]
        }
      ],
      "source": [
        "print(y)"
      ]
    },
    {
      "cell_type": "markdown",
      "metadata": {
        "id": "ebD0VYukJubB"
      },
      "source": [
        "## Taking care of missing data"
      ]
    },
    {
      "cell_type": "markdown",
      "metadata": {},
      "source": []
    },
    {
      "cell_type": "code",
      "execution_count": 6,
      "metadata": {
        "id": "QtGqflE7J2q0"
      },
      "outputs": [],
      "source": [
        "from sklearn.impute import SimpleImputer\n",
        "# Create a new object for SimpleImputer\n",
        "# In the constructor, there are two arguments that were passed into\n",
        "# The first argument tell SimpleImputer to recognize the missing cell (nan = not a number)\n",
        "# The second argument tell this object to autofill average values of non-null cells and autofill the value into empty value\n",
        "imputer = SimpleImputer(missing_values=np.nan, strategy='mean')\n",
        "# This lines tells SimpleImputer learn how to fill average value into missing-value cells\n",
        "imputer.fit(X[:, 1:3])\n",
        "# This line applies what SimpleImputer learned to fill average value\n",
        "X[:, 1:3] = imputer.transform(X[:, 1:3])"
      ]
    },
    {
      "cell_type": "code",
      "execution_count": 7,
      "metadata": {
        "colab": {
          "base_uri": "https://localhost:8080/"
        },
        "id": "yyq-pzMZ8nGl",
        "outputId": "e1633530-946e-4087-864b-fe153ec06462"
      },
      "outputs": [
        {
          "name": "stdout",
          "output_type": "stream",
          "text": [
            "[['France' 44.0 72000.0]\n",
            " ['Spain' 27.0 48000.0]\n",
            " ['Germany' 30.0 54000.0]\n",
            " ['Spain' 38.0 61000.0]\n",
            " ['Germany' 40.0 63777.77777777778]\n",
            " ['France' 35.0 58000.0]\n",
            " ['Spain' 38.77777777777778 52000.0]\n",
            " ['France' 48.0 79000.0]\n",
            " ['Germany' 50.0 83000.0]\n",
            " ['France' 37.0 67000.0]]\n"
          ]
        }
      ],
      "source": [
        "print(X)"
      ]
    },
    {
      "cell_type": "markdown",
      "metadata": {
        "id": "gzxWOxYs7D51"
      },
      "source": [
        "## Encoding categorical data"
      ]
    },
    {
      "cell_type": "markdown",
      "metadata": {
        "id": "21osgkMYaA8o"
      },
      "source": [
        "### How to identiy categorical features"
      ]
    },
    {
      "cell_type": "code",
      "execution_count": 8,
      "metadata": {
        "colab": {
          "base_uri": "https://localhost:8080/"
        },
        "id": "NfffsBC0aKq3",
        "outputId": "11d28b66-ca7d-47d8-b375-12d4d9ab860e"
      },
      "outputs": [
        {
          "name": "stdout",
          "output_type": "stream",
          "text": [
            "['Country', 'Purchased']\n"
          ]
        }
      ],
      "source": [
        "categorical_features = dataset.select_dtypes(include=['object']).columns.tolist()\n",
        "print(categorical_features)"
      ]
    },
    {
      "cell_type": "markdown",
      "metadata": {
        "id": "f3BIk-eZ8Fm3"
      },
      "source": [
        "### Encoding the Independent variable"
      ]
    },
    {
      "cell_type": "markdown",
      "metadata": {
        "id": "hLitc-oOZN7Z"
      },
      "source": [
        "Below step is cruical, because **machine can just work with numerical data**, and if your dataset contains non-numerical data, you will have to transform it into numerical data\n",
        "\n",
        "\n",
        "---\n",
        "\n",
        "\n",
        "**`ColumnTransformer`**: Applying transformations to specific columns\n",
        "\n",
        "\n",
        "> It is a powerful tool for managing data preprocessing when you have a mix of different data types (e.g., numerical, categorical, text).  It allows you to apply different preprocessing steps to different columns in a clean and organized way.\n",
        "\n",
        "\n",
        "---\n",
        "\n",
        "**`One Hot Encoding`**: Converting Categories to Numbers\n",
        "\n",
        "> It is a crucial preprocessing technique for handling categorical data, which are variables that represent qualities or characteristics (e.g., colors, types of fruit, city names).\n",
        "\n",
        "**How it works**\n",
        "\n",
        "Let's say we have a \"Color\" column:\n",
        "```\n",
        "Color\n",
        "-----\n",
        "Red\n",
        "Blue\n",
        "Green\n",
        "Red\n",
        "```\n",
        "\n",
        "After one-hot encoding, it becomes:\n",
        "```\n",
        "Red  Blue  Green\n",
        "---  ----  -----\n",
        "1    0     0\n",
        "0    1     0\n",
        "0    0     1\n",
        "1    0     0\n",
        "```\n",
        "\n",
        "> **Prevents Misinterpretation**: If we simply assigned numbers to categories (e.g., Red=1, Blue=2, Green=3), the algorithm might incorrectly interpret these numbers as having an ordinal relationship (i.e., that Green is \"greater\" than Blue, which is not true). One-hot encoding avoids this\n"
      ]
    },
    {
      "cell_type": "code",
      "execution_count": 9,
      "metadata": {
        "id": "1Q__ssxg8KRF"
      },
      "outputs": [],
      "source": [
        "from sklearn.compose import ColumnTransformer\n",
        "from sklearn.preprocessing import OneHotEncoder\n",
        "# ct = column transformer\n",
        "ct = ColumnTransformer(transformers=[('encoder', OneHotEncoder(), [0])], remainder=\"passthrough\")\n",
        "X = np.array(ct.fit_transform(X))"
      ]
    },
    {
      "cell_type": "code",
      "execution_count": 10,
      "metadata": {
        "colab": {
          "base_uri": "https://localhost:8080/"
        },
        "id": "Q9eynDc-VE34",
        "outputId": "8803fc5e-fa79-424a-ad8e-624820203774"
      },
      "outputs": [
        {
          "name": "stdout",
          "output_type": "stream",
          "text": [
            "[[1.0 0.0 0.0 44.0 72000.0]\n",
            " [0.0 0.0 1.0 27.0 48000.0]\n",
            " [0.0 1.0 0.0 30.0 54000.0]\n",
            " [0.0 0.0 1.0 38.0 61000.0]\n",
            " [0.0 1.0 0.0 40.0 63777.77777777778]\n",
            " [1.0 0.0 0.0 35.0 58000.0]\n",
            " [0.0 0.0 1.0 38.77777777777778 52000.0]\n",
            " [1.0 0.0 0.0 48.0 79000.0]\n",
            " [0.0 1.0 0.0 50.0 83000.0]\n",
            " [1.0 0.0 0.0 37.0 67000.0]]\n"
          ]
        }
      ],
      "source": [
        "print(X)"
      ]
    },
    {
      "cell_type": "markdown",
      "metadata": {
        "id": "L97AssB8bXdW"
      },
      "source": [
        "#### **Explain about the above code**\n",
        "\n",
        "The first argument of **`ColumnTransformer`**\n",
        "is `transformers`\n",
        "\n",
        "* It's a list of tuples, where each tuple defines a transformation to be applied to a specific set of columns.\n",
        "* Inside the tuple (like fixed-array in other programming languge)\n",
        "\n",
        "  1.   `name`:  A string that gives a name to this specific transformation (encoder means change some value to new value)\n",
        "  2.   `transformer`: Use **`OneHotEncoder`**\n",
        "  3.   `columns`: Specify which columns will be applied\n",
        "\n",
        "\n",
        "\n",
        "---\n",
        "\n",
        "The second argument is `remainder`\n",
        "\n",
        "\n",
        "*   Specifies what to do with the columns that are not explicitly specified in the transformers argument\n",
        " 1.   **`drop`**: The default. Columns not specified in transformers are dropped from the output.\n",
        "\n",
        " 2.   **`passthrough`**: The unspecified columns are passed through without transformation. This is very common when you have a mix of numerical and categorical features\n",
        "\n",
        " 3. **`any transformer`**: You can provide another transformer object. This transformer will be applied to the remaining columns.\n",
        "\n",
        "\n",
        "\n",
        "\n",
        "\n"
      ]
    },
    {
      "cell_type": "markdown",
      "metadata": {
        "id": "YQqJF7hlWABy"
      },
      "source": [
        "### Encoding the Dependent variable"
      ]
    },
    {
      "cell_type": "code",
      "execution_count": 11,
      "metadata": {
        "id": "dF_-h8z9WKWu"
      },
      "outputs": [],
      "source": [
        "from sklearn.preprocessing import LabelEncoder\n",
        "le = LabelEncoder()\n",
        "y = le.fit_transform(y)"
      ]
    },
    {
      "cell_type": "code",
      "execution_count": 12,
      "metadata": {
        "colab": {
          "base_uri": "https://localhost:8080/"
        },
        "id": "oWqRf0FMWkzZ",
        "outputId": "f68f4921-972f-41e3-bd35-6364f990e150"
      },
      "outputs": [
        {
          "name": "stdout",
          "output_type": "stream",
          "text": [
            "[0 1 0 0 1 1 0 1 0 1]\n"
          ]
        }
      ],
      "source": [
        "print(y)"
      ]
    },
    {
      "cell_type": "markdown",
      "metadata": {
        "id": "E6EOoSzZW3p2"
      },
      "source": [
        "#### A detailed explanation about ```fit()``` and ```transform()``` do in Pre-processing data step in **Machine Learning**\n",
        "\n",
        "\n",
        "---\n",
        "**```fit()```**: is a step that learning parameters from your data.\n",
        "\n",
        "- When you call ```fit()``` on a preprocessing object (like a **```StandardScaler```**, **```MinMaxScaler```**, **```OneHotEncoder```**, etc.) and pass your data (typically your training data), the method analyzes the data to calculate statistics or parameters needed for the transformation or to use later.\n",
        "\n",
        "\n",
        "---\n",
        "**```transform()```**: is about applying the learned parameters from **```fit()```** to actually transform your data.\n",
        "\n"
      ]
    },
    {
      "cell_type": "markdown",
      "metadata": {
        "id": "YPYv_daNgOcJ"
      },
      "source": [
        "### Spliting the dataset into the Training set and Test set"
      ]
    },
    {
      "cell_type": "markdown",
      "metadata": {
        "id": "NOogaOaFYlp3"
      },
      "source": [
        "*   **Training set**: Build your machine learning model\n",
        "*   **Test set**: Test or evaluate your model\n",
        "\n",
        "---\n",
        "\n",
        "#### Why we have to apply **spliting the dataset** before **feature scalling**"
      ]
    },
    {
      "cell_type": "markdown",
      "metadata": {
        "id": "tfXVY4O8Yza4"
      },
      "source": [
        "##### Try to read this example:\n",
        "- Let imagine you are practicing for the next exam (using training set). You use previous exam to practice (previous exam = training set). The next exam (next exam = test set) will be completely new that you don't see anytime in the practicing time\n",
        "    - **Feature scalling before spliting (wrong)**: Like you use the answer of the real test to help you practice for that test. You will take the test well, but it is not a fair assessment of your true knowledge.\n",
        "    - **Standardization after division (right)**: Like you practice with practice and then take a whole new test you have never seen. This shows you the right level and preparation of you."
      ]
    },
    {
      "cell_type": "code",
      "execution_count": 13,
      "metadata": {
        "id": "yP-68ywJXInS"
      },
      "outputs": [],
      "source": [
        "from sklearn.model_selection import train_test_split\n",
        "X_train, X_test, y_train, y_test = train_test_split(X, y, test_size=0.2, random_state=1)"
      ]
    },
    {
      "cell_type": "markdown",
      "metadata": {
        "id": "4nxWlKA3YpoT"
      },
      "source": [
        "##### Explanation about the above code:\n",
        "\n",
        "- **```train_test_split()```**: This function will split dataset into 2 parts:\n",
        "    - A pair of training set and test set for feature variable\n",
        "    - A rest pair about dependent variable\n",
        "- **```test_size = 0.2```**: This means the size of test set is 20% of dataset\n",
        "- **```random_state=1```**: This means you shuffle the training set and test set before spiliting to make sure get the best result for your future machine learning model"
      ]
    },
    {
      "cell_type": "code",
      "execution_count": 14,
      "metadata": {
        "colab": {
          "base_uri": "https://localhost:8080/"
        },
        "id": "uE_f8Uh0bfQd",
        "outputId": "253d5b18-dc4f-40fc-aafe-36a316349019"
      },
      "outputs": [
        {
          "name": "stdout",
          "output_type": "stream",
          "text": [
            "[[0.0 0.0 1.0 38.77777777777778 52000.0]\n",
            " [0.0 1.0 0.0 40.0 63777.77777777778]\n",
            " [1.0 0.0 0.0 44.0 72000.0]\n",
            " [0.0 0.0 1.0 38.0 61000.0]\n",
            " [0.0 0.0 1.0 27.0 48000.0]\n",
            " [1.0 0.0 0.0 48.0 79000.0]\n",
            " [0.0 1.0 0.0 50.0 83000.0]\n",
            " [1.0 0.0 0.0 35.0 58000.0]]\n"
          ]
        }
      ],
      "source": [
        "print(X_train)"
      ]
    },
    {
      "cell_type": "code",
      "execution_count": 15,
      "metadata": {
        "colab": {
          "base_uri": "https://localhost:8080/"
        },
        "id": "8LfRsV4JbiN8",
        "outputId": "5bcf48d7-a934-4cc3-8a21-b2dbae8d5e2b"
      },
      "outputs": [
        {
          "name": "stdout",
          "output_type": "stream",
          "text": [
            "[[0.0 1.0 0.0 30.0 54000.0]\n",
            " [1.0 0.0 0.0 37.0 67000.0]]\n"
          ]
        }
      ],
      "source": [
        "print(X_test)"
      ]
    },
    {
      "cell_type": "code",
      "execution_count": 16,
      "metadata": {
        "colab": {
          "base_uri": "https://localhost:8080/"
        },
        "id": "DylGOMwSbiqb",
        "outputId": "be2d89e2-def2-421c-d553-67b840c3feba"
      },
      "outputs": [
        {
          "name": "stdout",
          "output_type": "stream",
          "text": [
            "[0 1 0 0 1 1 0 1]\n"
          ]
        }
      ],
      "source": [
        "print(y_train)"
      ]
    },
    {
      "cell_type": "code",
      "execution_count": 17,
      "metadata": {
        "colab": {
          "base_uri": "https://localhost:8080/"
        },
        "id": "nrsl8U8Hbi7P",
        "outputId": "03e8c03c-ec3a-426e-e48e-a4d865e73dd4"
      },
      "outputs": [
        {
          "name": "stdout",
          "output_type": "stream",
          "text": [
            "[0 1]\n"
          ]
        }
      ],
      "source": [
        "print(y_test)"
      ]
    },
    {
      "cell_type": "markdown",
      "metadata": {
        "id": "qdCg0oKofaHz"
      },
      "source": [
        "### Feature scalling\n",
        "Main usage: **Feature scaling** is like converting everything to a common \"size unit\" so we can fairly compare them\n",
        "  - If you don't understand, try to look at the below example:\n",
        "      - Imagine you're comparing apples and oranges, but you're trying to compare them based on their \"size.\"\n",
        "          - **Apples** might be measured in centimeters (diameter). Let's say apple sizes range from 6cm to 9cm\n",
        "          - **Oranges** might be measured in grams (weight). Let's say orange weights range from 150g to 250g.\n",
        "          \n",
        "          => So to hard to compare betweem them, so **feature scalling** comes and solves this prolem"
      ]
    },
    {
      "cell_type": "code",
      "execution_count": 18,
      "metadata": {
        "id": "pUK2ofEJZADQ"
      },
      "outputs": [],
      "source": [
        "# We will use Standardlization instead of Normalization techinique\n",
        "from sklearn.preprocessing import StandardScaler\n",
        "scaler = StandardScaler()\n",
        "X_train[:, 3:] = scaler.fit_transform(X_train[:, 3:])\n",
        "X_test[:, 3:] = scaler.transform(X_test[:, 3:])"
      ]
    },
    {
      "cell_type": "code",
      "execution_count": 19,
      "metadata": {
        "colab": {
          "base_uri": "https://localhost:8080/"
        },
        "id": "tko86SjXdvry",
        "outputId": "1efd1933-34c8-42cf-b9dd-eb0b1d9c6fdd"
      },
      "outputs": [
        {
          "name": "stdout",
          "output_type": "stream",
          "text": [
            "[[0.0 0.0 1.0 -0.19159184384578545 -1.0781259408412425]\n",
            " [0.0 1.0 0.0 -0.014117293757057777 -0.07013167641635372]\n",
            " [1.0 0.0 0.0 0.566708506533324 0.633562432710455]\n",
            " [0.0 0.0 1.0 -0.30453019390224867 -0.30786617274297867]\n",
            " [0.0 0.0 1.0 -1.9018011447007988 -1.420463615551582]\n",
            " [1.0 0.0 0.0 1.1475343068237058 1.232653363453549]\n",
            " [0.0 1.0 0.0 1.4379472069688968 1.5749910381638885]\n",
            " [1.0 0.0 0.0 -0.7401495441200351 -0.5646194287757332]]\n",
            "[[0.0 1.0 0.0 -1.4661817944830124 -0.9069571034860727]\n",
            " [1.0 0.0 0.0 -0.44973664397484414 0.2056403393225306]]\n"
          ]
        }
      ],
      "source": [
        "print(X_train)\n",
        "print(X_test)"
      ]
    },
    {
      "cell_type": "markdown",
      "metadata": {
        "id": "FLNdVYGxZ2Ci"
      },
      "source": [
        "#### Explanation about the above code\n",
        "\n",
        "Why **```X_train```** runs both **```fit```** and **```transform```** functions, but **```X_train```** only runs **```transform```** function?\n",
        "\n",
        "  * Because the objective of **fit** function is make the model learn how to apply transformation before transform it, so both the train and test set only need learn once before transforming\n",
        "\n",
        "\n",
        "\n",
        "---\n",
        "\n",
        "Why ```[:, 3:]```\n",
        "\n",
        "  * Because we just apply feature scalling for the columns that don't belong to ```[-3;3]```. If the columns has been belong to this range, we don't need to apply **feature scalling**"
      ]
    }
  ],
  "metadata": {
    "colab": {
      "collapsed_sections": [
        "NvUGC8QQV6bV"
      ],
      "provenance": []
    },
    "kernelspec": {
      "display_name": "venv",
      "language": "python",
      "name": "python3"
    },
    "language_info": {
      "codemirror_mode": {
        "name": "ipython",
        "version": 3
      },
      "file_extension": ".py",
      "mimetype": "text/x-python",
      "name": "python",
      "nbconvert_exporter": "python",
      "pygments_lexer": "ipython3",
      "version": "3.12.7"
    }
  },
  "nbformat": 4,
  "nbformat_minor": 0
}
